{
 "cells": [
  {
   "cell_type": "markdown",
   "id": "32f8ca24",
   "metadata": {},
   "source": [
    "# Understanding Hired Rides in NYC\n",
    "\n",
    "_[Project prompt](https://docs.google.com/document/d/1VERPjEZcC1XSs4-02aM-DbkNr_yaJVbFjLJxaYQswqA/edit#)_\n",
    "\n",
    "_This scaffolding notebook may be used to help setup your final project. It's **totally optional** whether you make use of this or not._\n",
    "\n",
    "_If you do use this notebook, everything provided is optional as well - you may remove or add prose and code as you wish._\n",
    "\n",
    "_Anything in italics (prose) or comments (in code) is meant to provide you with guidance. **Remove the italic lines and provided comments** before submitting the project, if you choose to use this scaffolding. We don't need the guidance when grading._\n",
    "\n",
    "_**All code below should be consider \"pseudo-code\" - not functional by itself, and only a suggestion at the approach.**_"
   ]
  },
  {
   "cell_type": "markdown",
   "id": "25627e8d",
   "metadata": {},
   "source": [
    "## Requirements\n",
    "\n",
    "_A checklist of requirements to keep you on track. Remove this whole cell before submitting the project._\n",
    "\n",
    "* Code clarity: make sure the code conforms to:\n",
    "    * [ ] [PEP 8](https://peps.python.org/pep-0008/) - You might find [this resource](https://realpython.com/python-pep8/) helpful as well as [this](https://github.com/dnanhkhoa/nb_black) or [this](https://jupyterlab-code-formatter.readthedocs.io/en/latest/) tool\n",
    "    * [ ] [PEP 257](https://peps.python.org/pep-0257/)\n",
    "    * [ ] Break each task down into logical functions\n",
    "* The following files are submitted for the project (see the project's GDoc for more details):\n",
    "    * [ ] `README.md`\n",
    "    * [ ] `requirements.txt`\n",
    "    * [ ] `.gitignore`\n",
    "    * [ ] `schema.sql`\n",
    "    * [ ] 6 query files (using the `.sql` extension), appropriately named for the purpose of the query\n",
    "    * [x] Jupyter Notebook containing the project (this file!)\n",
    "* [x] You can edit this cell and add a `x` inside the `[ ]` like this task to denote a completed task"
   ]
  },
  {
   "cell_type": "markdown",
   "id": "2f75fd94",
   "metadata": {},
   "source": [
    "## Project Setup"
   ]
  },
  {
   "cell_type": "code",
   "execution_count": 1,
   "id": "66dcde05",
   "metadata": {},
   "outputs": [],
   "source": [
    "# all import statements needed for the project, for example:\n",
    "import re\n",
    "import bs4\n",
    "import math\n",
    "import warnings\n",
    "import requests\n",
    "import mapclassify\n",
    "import numpy as np\n",
    "import pandas as pd\n",
    "import sqlalchemy as db\n",
    "import geopandas as gpd\n",
    "import matplotlib.pyplot as plt\n",
    "from scipy import stats\n",
    "from keplergl import KeplerGl\n",
    "from math import sin, cos, asin, pi, sqrt\n",
    "\n",
    "warnings.filterwarnings('ignore')"
   ]
  },
  {
   "cell_type": "code",
   "execution_count": 2,
   "id": "3f1242c4",
   "metadata": {},
   "outputs": [],
   "source": [
    "# constants we need for processing data:\n",
    "\n",
    "TAXI_URL = \"https://www1.nyc.gov/site/tlc/about/tlc-trip-record-data.page\"\n",
    "UBER_CSV = \"uber_rides_sample.csv\"\n",
    "\n",
    "NEW_YORK_BOX_COORDS = ((40.560445, -74.242330), (40.908524, -73.717047))\n",
    "\n",
    "DATABASE_URL = \"sqlite:///project.db\"\n",
    "DATABASE_SCHEMA_FILE = \"schema.sql\"\n",
    "QUERY_DIRECTORY = \"query-\""
   ]
  },
  {
   "cell_type": "markdown",
   "id": "26ad10ea",
   "metadata": {},
   "source": [
    "## Part 1: Data Preprocessing"
   ]
  },
  {
   "cell_type": "markdown",
   "id": "ecf38168",
   "metadata": {},
   "source": [
    "_A checklist of requirements to keep you on track. Remove this whole cell before submitting the project. The order of these tasks aren't necessarily the order in which they need to be done. It's okay to do them in an order that makes sense to you._\n",
    "\n",
    "* [ ] Define a function that calculates the distance between two coordinates in kilometers that **only uses the `math` module** from the standard library.\n",
    "* [ ] Taxi data:\n",
    "    * [ ] Use the `re` module, and the packages `requests`, BeautifulSoup (`bs4`), and (optionally) `pandas` to programmatically download the required CSV files & load into memory.\n",
    "    * You may need to do this one file at a time - download, clean, sample. You can cache the sampling by saving it as a CSV file (and thereby freeing up memory on your computer) before moving onto the next file. \n",
    "* [ ] Weather & Uber data:\n",
    "    * [ ] Download the data manually in the link provided in the project doc.\n",
    "* [ ] All data:\n",
    "    * [ ] Load the data using `pandas`\n",
    "    * [ ] Clean the data, including:\n",
    "        * Remove unnecessary columns\n",
    "        * Remove invalid data points (take a moment to consider what's invalid)\n",
    "        * Normalize column names\n",
    "        * (Taxi & Uber data) Remove trips that start and/or end outside the designated [coordinate box](http://bboxfinder.com/#40.560445,-74.242330,40.908524,-73.717047)\n",
    "    * [ ] (Taxi data) Sample the data so that you have roughly the same amount of data points over the given date range for both Taxi data and Uber data.\n",
    "* [ ] Weather data:\n",
    "    * [ ] Split into two `pandas` DataFrames: one for required hourly data, and one for the required daily daya.\n",
    "    * [ ] You may find that the weather data you need later on does not exist at the frequency needed (daily vs hourly). You may calculate/generate samples from one to populate the other. Just document what you’re doing so we can follow along. "
   ]
  },
  {
   "cell_type": "markdown",
   "id": "32074561",
   "metadata": {},
   "source": [
    "### Calculating distance\n",
    "_Using the latituede/longitude given in the Yellow Taxi Dataframe to calculate the route distance._"
   ]
  },
  {
   "cell_type": "code",
   "execution_count": 3,
   "id": "4cbbe6cc",
   "metadata": {},
   "outputs": [],
   "source": [
    "def calculate_distance(from_coord, to_coord):\n",
    "    \"\"\"\n",
    "    Calculate the distance between two coordinates\n",
    "    \n",
    "    The function takes in 2 argumants: \"from_coord\" and \"to_coord\"\n",
    "    \"from_coord\": columns 'pickup_latitude' and 'pickup_longitude' from datarame\n",
    "    \"to_coord\":  columns 'dropoff_latitude' and 'dropoff_longitude' from datarame\n",
    "    \n",
    "    RETURN: an array of calculated distances (in km)\n",
    "    \"\"\"\n",
    "    # first change the latitude and longitude into radians\n",
    "    lat1 = from_coord['pickup_latitude'] *pi/180\n",
    "    lon1 = from_coord['pickup_longitude'] *pi/180\n",
    "    lat2 = to_coord['dropoff_latitude']*pi/180\n",
    "    lon2 = to_coord['dropoff_longitude']*pi/180\n",
    "    dlon = lon2 - lon1 \n",
    "    dlat = lat2 - lat1 \n",
    "    \n",
    "    # using Haversine formula to calculate distance\n",
    "    a = ((dlat/2).map(sin))**2 + (lat1.map(cos)) * (lat2.map(cos)) * ((dlon/2).map(sin))**2\n",
    "    \n",
    "    # suppose the radius of earth is 6371 km\n",
    "    distance = 6371*2 * (a.map(sqrt)).map(asin)\n",
    "    \n",
    "    # round the distance with 2 decimals\n",
    "    return round(distance, 2)"
   ]
  },
  {
   "cell_type": "code",
   "execution_count": 4,
   "id": "6d6abf52",
   "metadata": {},
   "outputs": [],
   "source": [
    "def add_distance_column(dataframe):\n",
    "    \"\"\"\n",
    "    Add one column 'distance' which calculates taxi route distance into 'dataframe'\n",
    "    \n",
    "    The function takes one argument: 'dataframe'\n",
    "    Use columns \"pickup_latitude\" and \"pickup_longitude\" to create argument \"from_coord\"\n",
    "    Use columns \"dropoff_latitude\" and \"dropoff_longitude\" to create argument to_coord\"\n",
    "    \n",
    "    RETURN: dataframe with new column 'distance' \n",
    "    \"\"\"\n",
    "    # generate 'from_coord' & 'to_coord'\n",
    "    from_coord = dataframe[['pickup_latitude', 'pickup_longitude']]\n",
    "    to_coord = dataframe[['dropoff_latitude', 'dropoff_longitude']]\n",
    "    \n",
    "    # add 'distance' into dataframe\n",
    "    dataframe['distance'] = calculate_distance(from_coord, to_coord)\n",
    "    \n",
    "    return dataframe"
   ]
  },
  {
   "cell_type": "markdown",
   "id": "93daa717",
   "metadata": {},
   "source": [
    "### Processing Taxi Data\n",
    "\n",
    "_Obtain Yellow Taxi Data from 2009-01 to 2015-06, then clean and combine all dataframes._\n",
    "\n",
    "_Firstly we utilize `re`, `requests` and `BeautifulSoup` module to find specific data._\n",
    "\n",
    "_Then we use `pandas` to load and clean the monthly data according to our rules._\n",
    "\n",
    "_Finally we combine each monthly data into a giant one._"
   ]
  },
  {
   "cell_type": "code",
   "execution_count": 5,
   "id": "cbd0d198",
   "metadata": {},
   "outputs": [],
   "source": [
    "def find_taxi_csv_urls():\n",
    "    \"\"\"\n",
    "    Get all the URLs of Taxi Data\n",
    "    RETURN: a lits of links that download parquet files of Taxi Data\n",
    "    \"\"\"\n",
    "    y = []\n",
    "    links = []\n",
    "    # get response from HTML\n",
    "    response = requests.get(TAXI_URL)\n",
    "    html = response.content\n",
    "    \n",
    "    # use bs4 to parse html and find Yellow Taxi urls\n",
    "    soup = bs4.BeautifulSoup(html, \"html.parser\")\n",
    "    yellow = soup.find_all(\"a\", attrs = {\"title\":\"Yellow Taxi Trip Records\"})\n",
    "    y.append([a[\"href\"] for a in yellow])\n",
    "    \n",
    "    # use regex pattern to find desired URLs from 'yellow taxi trip records'\n",
    "    pattern = re.compile(\".*(2009|201[0-4]|2015-0[1-6]).*\")\n",
    "    for i in y[0]:\n",
    "        match = re.match(pattern, i)\n",
    "        if match != None:\n",
    "            links.append(i)\n",
    "    return links"
   ]
  },
  {
   "cell_type": "code",
   "execution_count": 6,
   "id": "2f40130a",
   "metadata": {},
   "outputs": [],
   "source": [
    "def get_and_clean_month_taxi_data(url):\n",
    "    \"\"\"\n",
    "    The function takes in one url from Internet\n",
    "    Obtain dataframe from url of every given month and clean the df\n",
    "    \n",
    "    RETURN: a cleaned dataframe\n",
    "    \"\"\"   \n",
    "    # Load shp file of Taxi Zones\n",
    "    g = gpd.read_file(filename='taxi_zones.zip', engine='fiona')\n",
    "    g = g.to_crs(4326)\n",
    "\n",
    "    # use the center of the zones as a point to look up the coordinates.\n",
    "    g['longitude'] = g.centroid.x\n",
    "    g['latitude'] = g.centroid.y\n",
    "\n",
    "    # remove unnecessary columns \n",
    "    # create mapping methods for latitude & longitude\n",
    "    # aim to create lat & longitude which do not exist in some taxi data\n",
    "    g = g[['LocationID', 'longitude', 'latitude', 'zone', 'borough']]\n",
    "    lat_map = dict(zip(g['LocationID'], g['latitude']))\n",
    "    lon_map = dict(zip(g['LocationID'], g['longitude']))\n",
    "    \n",
    "    df = pd.read_parquet(url)\n",
    "    \n",
    "    # process dataframe which only has LocationIDs \n",
    "    # match the LocationID in 'df' with dataframe 'g'\n",
    "    # add 4 new columns to 'df' after matching\n",
    "    if 'DOLocationID' in df:\n",
    "        df['pickup_latitude']  = df['PULocationID'].map(lat_map)\n",
    "        df['pickup_longitude'] = df['PULocationID'].map(lon_map)\n",
    "        df['dropoff_latitude'] = df['DOLocationID'].map(lat_map)\n",
    "        df['dropoff_longitude']= df['DOLocationID'].map(lon_map)\n",
    "\n",
    "    # normalizing column names, according to UBER_DATA column names\n",
    "    df = df.rename(columns={'tpep_pickup_datetime':'pickup_datetime', \n",
    "                            'Trip_Pickup_DateTime':'pickup_datetime', \n",
    "                            'Tip_Amt':'tip_amount',\n",
    "                            'Fare_Amt':'fare_amount', 'Passenger_Count':'passenger_count',\n",
    "                            'Start_Lon':'pickup_longitude','Start_Lat':'pickup_latitude', \n",
    "                            'End_Lon':'dropoff_longitude', 'End_Lat':'dropoff_latitude',           \n",
    "                            })\n",
    "        \n",
    "    # remove invalid ponits, fare, distance and passenger must be positive\n",
    "    df = df[df['fare_amount'] > 0]\n",
    "    df = df[(df['tip_amount'] >= 0)]\n",
    "    df = df[df['passenger_count'] > 0]\n",
    "    df = df[df['pickup_latitude']!=df['dropoff_latitude']]\n",
    "    df = df[df['pickup_longitude']!=df['dropoff_longitude']]\n",
    "    df = df[abs(df['pickup_longitude']-df['dropoff_longitude'])>0.001]\n",
    "        \n",
    "    # removing trips that start and/or end outside of the BOX\n",
    "    df = df[df['pickup_latitude'] >= NEW_YORK_BOX_COORDS[0][0]]\n",
    "    df = df[df['pickup_latitude'] <= NEW_YORK_BOX_COORDS[1][0]]\n",
    "    df = df[df['pickup_longitude'] >= NEW_YORK_BOX_COORDS[0][1]]\n",
    "    df = df[df['pickup_longitude'] <= NEW_YORK_BOX_COORDS[1][1]]\n",
    "        \n",
    "    df = df[df['dropoff_latitude'] >= NEW_YORK_BOX_COORDS[0][0]]\n",
    "    df = df[df['dropoff_latitude'] <= NEW_YORK_BOX_COORDS[1][0]]\n",
    "    df = df[df['dropoff_longitude'] >= NEW_YORK_BOX_COORDS[0][1]]\n",
    "    df = df[df['dropoff_longitude'] <= NEW_YORK_BOX_COORDS[1][1]]\n",
    "    \n",
    "    # remove unnecessary columns, only keep 6 columns we need\n",
    "    df = df[['pickup_datetime','tip_amount',\n",
    "             'pickup_latitude','pickup_longitude',\n",
    "             'dropoff_latitude','dropoff_longitude',\n",
    "            ]]\n",
    "    # sampling from data to match the amount of \"taxi_data\" with \"uber_data\" \n",
    "    df = df.sample(n=round(185444/78))\n",
    "    \n",
    "    # using appropriate column type\n",
    "    df['pickup_datetime'] = pd.to_datetime(df['pickup_datetime'])\n",
    "    df.iloc[:,1:6] = df.iloc[:,1:6].astype('float32')     \n",
    "    \n",
    "    return df"
   ]
  },
  {
   "cell_type": "code",
   "execution_count": 7,
   "id": "35c9c0cd",
   "metadata": {},
   "outputs": [],
   "source": [
    "def get_and_clean_taxi_data():\n",
    "    \"\"\"\n",
    "    The function generate a list of Yellow Taxi urls\n",
    "    For each url, obtain the dataframe from url\n",
    "    Then clean dataframe and add 'distance' column\n",
    "    In the end we join each month's dataframe to a giant one\n",
    "    \n",
    "    RETURN: a huge dataframe contains cleaned data from every month\n",
    "    \n",
    "    \"\"\"\n",
    "    all_taxi_dataframes = []\n",
    "    \n",
    "    # acquire list of Yellow Taxi urls\n",
    "    all_parquet = find_taxi_csv_urls()\n",
    "    \n",
    "    # clean dataframe and add columns\n",
    "    for i in all_parquet:\n",
    "        \n",
    "        # read local files by extracting file name from url\n",
    "        file = i.split('/')[-1]\n",
    "        dataframe = get_and_clean_month_taxi_data(file)\n",
    "        add_distance_column(dataframe)  \n",
    "        all_taxi_dataframes.append(dataframe)\n",
    "        print(f'done with {file}')\n",
    "    \n",
    "    \n",
    "    # combine to a giant dataframe\n",
    "    taxi_data = pd.concat(all_taxi_dataframes)\n",
    "    \n",
    "    return taxi_data"
   ]
  },
  {
   "cell_type": "markdown",
   "id": "094b4d6d",
   "metadata": {},
   "source": [
    "### Processing Uber Data\n",
    "\n",
    "_Processing the Uber Data, make the column type and column names the same pattern as Taxi Data._"
   ]
  },
  {
   "cell_type": "code",
   "execution_count": 8,
   "id": "7c58e3a2",
   "metadata": {},
   "outputs": [],
   "source": [
    "def load_and_clean_uber_data(csv_file):\n",
    "    \"\"\"\n",
    "    The funcion takes one argument, the csv file\n",
    "    We do the same procedure as cleaning Taxi Data\n",
    "    We aim to obtain dataframe in the same colmn type as Taxi Data\n",
    "    \n",
    "    RETURN: a cleaned dataframe\n",
    "    \"\"\"\n",
    "    df = pd.read_csv(csv_file)\n",
    "    \n",
    "    # removing trips that start and/or end outside of the BOX\n",
    "    df = df[df['pickup_latitude'] >= NEW_YORK_BOX_COORDS[0][0]]\n",
    "    df = df[df['pickup_latitude'] <= NEW_YORK_BOX_COORDS[1][0]]\n",
    "    df = df[df['pickup_longitude'] >= NEW_YORK_BOX_COORDS[0][1]]\n",
    "    df = df[df['pickup_longitude'] <= NEW_YORK_BOX_COORDS[1][1]]\n",
    "        \n",
    "    df = df[df['dropoff_latitude'] >= NEW_YORK_BOX_COORDS[0][0]]\n",
    "    df = df[df['dropoff_latitude'] <= NEW_YORK_BOX_COORDS[1][0]]\n",
    "    df = df[df['dropoff_longitude'] >= NEW_YORK_BOX_COORDS[0][1]]\n",
    "    df = df[df['dropoff_longitude'] <= NEW_YORK_BOX_COORDS[1][1]]\n",
    "    \n",
    "\n",
    "    # remove invalid ponits\n",
    "    df = df[df['fare_amount']>0]\n",
    "    df = df[df['passenger_count'] > 0]\n",
    "    df = df[df['pickup_latitude']!=df['dropoff_latitude']]\n",
    "    df = df[df['pickup_longitude']!=df['dropoff_longitude']]\n",
    "    df = df[abs(df['pickup_longitude']-df['dropoff_longitude'])>0.001]\n",
    "    \n",
    "    # remove unnecessary columns\n",
    "    df = df[['pickup_datetime',\n",
    "             'pickup_latitude','pickup_longitude',\n",
    "             'dropoff_latitude','dropoff_longitude',\n",
    "            ]]\n",
    "        \n",
    "    # using appropriate column type\n",
    "    df['pickup_datetime'] = pd.to_datetime(df['pickup_datetime'])\n",
    "    df.iloc[:,1:5] = df.iloc[:,1:5].astype('float32')\n",
    "        \n",
    "    return df"
   ]
  },
  {
   "cell_type": "code",
   "execution_count": 9,
   "id": "f836f118",
   "metadata": {},
   "outputs": [],
   "source": [
    "def get_uber_data():\n",
    "    \"\"\"\n",
    "    The function loads and cleans Uber_data\n",
    "    Calculate and Add 'distance' column to uber dataframe\n",
    "    \n",
    "    RETURN: cleaned dataframe with new column 'distance'\n",
    "    \"\"\"\n",
    "    uber_dataframe = load_and_clean_uber_data(UBER_CSV)\n",
    "    add_distance_column(uber_dataframe)\n",
    "    return uber_dataframe"
   ]
  },
  {
   "cell_type": "markdown",
   "id": "45a15cbb",
   "metadata": {},
   "source": [
    "### Processing Weather Data\n",
    "\n",
    "_Fecth Weather Data from 2009 to 2015 to clean._\n",
    "\n",
    "_Use `pandas` module to clean and fill missing values_"
   ]
  },
  {
   "cell_type": "code",
   "execution_count": 10,
   "id": "76e864ab",
   "metadata": {},
   "outputs": [],
   "source": [
    "def clean_month_weather_data_hourly(csv_file):\n",
    "    \"\"\"\n",
    "    Takes in one argument: the hourly csv data\n",
    "    We clean the dataframe by dropping NaN value in WindSpeed\n",
    "    and filling NaN as 0 in precipitation column\n",
    "    Also change the DATE to pd.datetime type\n",
    "    \n",
    "    RETURN: a cleaned dataframe\n",
    "    \"\"\"\n",
    "    # read the csv file \n",
    "    df=pd.read_csv(csv_file)\n",
    "    \n",
    "    # clean the data\n",
    "    \n",
    "    # remove all columns that contain the world 'Daily'\n",
    "    df=df.drop(df.filter(regex='Daily').columns, axis=1)\n",
    "    \n",
    "    # remove all columns that have all NaN values\n",
    "    df=df.dropna(axis=1, how=\"all\")\n",
    "    \n",
    "    # remove all columns with only zero values\n",
    "    df.loc[:, (df != 0).any(axis=0)]\n",
    "    \n",
    "    # fill missing NaN value and drop if failed to fill\n",
    "    if df['HourlyWindSpeed'] is 'NaN':\n",
    "        df['HourlyWindSpeed'] = df['DailyAverageWindSpeed']/24\n",
    "        df['HourlyWindSpeed'].apply(lambda x: round(x,2))\n",
    "\n",
    "    # remove unnecessary columns\n",
    "    df = df[['DATE', 'HourlyWindSpeed', 'HourlyPrecipitation']]\n",
    "    df = df[df['HourlyPrecipitation']!= 'M']\n",
    "\n",
    "    # treat trace amounnt precipitation as 0; change NaN to 0\n",
    "    # change those numbers with 's' into float\n",
    "    df['HourlyPrecipitation'] = df['HourlyPrecipitation'].replace({pd.np.nan: 0, 'T': 0})\n",
    "    df['HourlyPrecipitation'] = df['HourlyPrecipitation'].apply(\n",
    "                                                                lambda x: x.replace('s', '') \n",
    "                                                                if isinstance(x, str) else x\n",
    "                                                                )\n",
    "    # use appropriate column type\n",
    "    df['DATE'] = pd.to_datetime(df['DATE'])\n",
    "    df['HourlyPrecipitation'] = df['HourlyPrecipitation'].astype(float)\n",
    "    df.dropna(inplace=True)\n",
    "    \n",
    "    return df"
   ]
  },
  {
   "cell_type": "code",
   "execution_count": 11,
   "id": "0687581f",
   "metadata": {},
   "outputs": [],
   "source": [
    "def clean_month_weather_data_daily(csv_file):\n",
    "    \"\"\"\n",
    "    Takes in one argument: the daily csv data\n",
    "    Calculate the mean WindSpeed & Precipitation within each day and insert\n",
    "    Also change the DATE to pd.datetime type\n",
    "    \n",
    "    RETURN: a cleaned daily dataframe\n",
    "    \"\"\"\n",
    "    #read the csv file \n",
    "    df=pd.read_csv(csv_file)\n",
    "    \n",
    "    # use appropriate column type\n",
    "    df['DATE'] = pd.to_datetime(df['DATE'])\n",
    "    \n",
    "    #remove all columns that have all NaN values\n",
    "    df = df.dropna(axis=1, how=\"all\")\n",
    "    df = df[df['HourlyPrecipitation']!= 'M']\n",
    "\n",
    "    # treat trace amounnt precipitation as 0; change NaN to 0\n",
    "    # change those numbers with 's' into float\n",
    "    df['HourlyPrecipitation'] = df['HourlyPrecipitation'].replace({pd.np.nan: 0, 'T': 0})\n",
    "    df['HourlyPrecipitation'] = df['HourlyPrecipitation'].apply(\n",
    "                                                                lambda x: x.replace('s', '') \n",
    "                                                                if isinstance(x, str) else x\n",
    "                                                                )\n",
    "    df['HourlyPrecipitation'] = df['HourlyPrecipitation'].astype(float)\n",
    "    \n",
    "    #remove all columns with only zero values\n",
    "    df.loc[:, (df != 0).any(axis=0)]\n",
    "    \n",
    "    # extract part of the date, without hour \n",
    "    df['DATE'] = df['DATE'].apply(lambda x: x.date())\n",
    "\n",
    "    # Calculate the mean of the Hourly WindSpeed & Precipitation \n",
    "    DailyWind = df.groupby('DATE')['HourlyWindSpeed'].mean()\n",
    "    DailyPreci = df.groupby('DATE')['HourlyPrecipitation'].mean()\n",
    "    \n",
    "    #combine duplicated DATE and merge the mean into new dataframe\n",
    "    df1 = df.drop_duplicates(subset=['DATE'])\n",
    "    df1 = df1[['DATE']]\n",
    "    df1 = pd.merge(df1, DailyWind, on='DATE')\n",
    "    df1 = pd.merge(df1, DailyPreci, on='DATE')\n",
    "    \n",
    "    # normalizing column name\n",
    "    df1.rename(columns={'HourlyWindSpeed':'DailyWindSpeed',\n",
    "                        'HourlyPrecipitation':'DailyPrecipitation'},inplace=True\n",
    "              )\n",
    "    \n",
    "    # round to decimals 2\n",
    "    df1['DailyWindSpeed'] = df1['DailyWindSpeed'].round(2)\n",
    "    df1['DailyPrecipitation'] = df1['DailyPrecipitation'].round(2)\n",
    "    df1['DATE'] = pd.to_datetime(df1['DATE'])\n",
    "    \n",
    "    return df1"
   ]
  },
  {
   "cell_type": "code",
   "execution_count": 12,
   "id": "3ef8945d",
   "metadata": {},
   "outputs": [],
   "source": [
    "def load_and_clean_weather_data():\n",
    "    hourly_dataframes = []\n",
    "    daily_dataframes = []\n",
    "    \n",
    "    \n",
    "    \n",
    "    # add some way to find all weather CSV files\n",
    "    # or just add the name/paths manually\n",
    "    \n",
    "    #comprehension list to generate all the csv files name needed\n",
    "    weather_csv_files = [f\"{year}_weather.csv\" for year in range(2009,2016)]\n",
    "    \n",
    "    for csv_file in weather_csv_files:\n",
    "        hourly_dataframe = clean_month_weather_data_hourly(csv_file)\n",
    "        daily_dataframe = clean_month_weather_data_daily(csv_file)\n",
    "        hourly_dataframes.append(hourly_dataframe)\n",
    "        daily_dataframes.append(daily_dataframe)\n",
    "        \n",
    "    # create two dataframes with hourly & daily data from every month\n",
    "    hourly_data = pd.concat(hourly_dataframes)\n",
    "    daily_data = pd.concat(daily_dataframes)\n",
    "    \n",
    "    return hourly_data, daily_data"
   ]
  },
  {
   "cell_type": "markdown",
   "id": "f900f7aa",
   "metadata": {},
   "source": [
    "### Process All Data\n",
    "\n",
    "_This is where you can actually execute all the required functions._\n",
    "\n",
    "_**TODO:** Write some prose that tells the reader what you're about to do here._"
   ]
  },
  {
   "cell_type": "code",
   "execution_count": 14,
   "id": "f7cd53a6",
   "metadata": {},
   "outputs": [
    {
     "name": "stdout",
     "output_type": "stream",
     "text": [
      "done with yellow_tripdata_2015-01.parquet\n",
      "done with yellow_tripdata_2015-02.parquet\n",
      "done with yellow_tripdata_2015-03.parquet\n",
      "done with yellow_tripdata_2015-04.parquet\n",
      "done with yellow_tripdata_2015-05.parquet\n",
      "done with yellow_tripdata_2015-06.parquet\n",
      "done with yellow_tripdata_2014-01.parquet\n",
      "done with yellow_tripdata_2014-02.parquet\n",
      "done with yellow_tripdata_2014-03.parquet\n",
      "done with yellow_tripdata_2014-04.parquet\n",
      "done with yellow_tripdata_2014-05.parquet\n",
      "done with yellow_tripdata_2014-06.parquet\n",
      "done with yellow_tripdata_2014-07.parquet\n",
      "done with yellow_tripdata_2014-08.parquet\n",
      "done with yellow_tripdata_2014-09.parquet\n",
      "done with yellow_tripdata_2014-10.parquet\n",
      "done with yellow_tripdata_2014-11.parquet\n",
      "done with yellow_tripdata_2014-12.parquet\n",
      "done with yellow_tripdata_2013-01.parquet\n",
      "done with yellow_tripdata_2013-02.parquet\n",
      "done with yellow_tripdata_2013-03.parquet\n",
      "done with yellow_tripdata_2013-04.parquet\n",
      "done with yellow_tripdata_2013-05.parquet\n",
      "done with yellow_tripdata_2013-06.parquet\n",
      "done with yellow_tripdata_2013-07.parquet\n",
      "done with yellow_tripdata_2013-08.parquet\n",
      "done with yellow_tripdata_2013-09.parquet\n",
      "done with yellow_tripdata_2013-10.parquet\n",
      "done with yellow_tripdata_2013-11.parquet\n",
      "done with yellow_tripdata_2013-12.parquet\n",
      "done with yellow_tripdata_2012-01.parquet\n",
      "done with yellow_tripdata_2012-02.parquet\n",
      "done with yellow_tripdata_2012-03.parquet\n",
      "done with yellow_tripdata_2012-04.parquet\n",
      "done with yellow_tripdata_2012-05.parquet\n",
      "done with yellow_tripdata_2012-06.parquet\n",
      "done with yellow_tripdata_2012-07.parquet\n",
      "done with yellow_tripdata_2012-08.parquet\n",
      "done with yellow_tripdata_2012-09.parquet\n",
      "done with yellow_tripdata_2012-10.parquet\n",
      "done with yellow_tripdata_2012-11.parquet\n",
      "done with yellow_tripdata_2012-12.parquet\n",
      "done with yellow_tripdata_2011-01.parquet\n",
      "done with yellow_tripdata_2011-02.parquet\n",
      "done with yellow_tripdata_2011-03.parquet\n",
      "done with yellow_tripdata_2011-04.parquet\n",
      "done with yellow_tripdata_2011-05.parquet\n",
      "done with yellow_tripdata_2011-06.parquet\n",
      "done with yellow_tripdata_2011-07.parquet\n",
      "done with yellow_tripdata_2011-08.parquet\n",
      "done with yellow_tripdata_2011-09.parquet\n",
      "done with yellow_tripdata_2011-10.parquet\n",
      "done with yellow_tripdata_2011-11.parquet\n",
      "done with yellow_tripdata_2011-12.parquet\n",
      "done with yellow_tripdata_2010-01.parquet\n",
      "done with yellow_tripdata_2010-02.parquet\n",
      "done with yellow_tripdata_2010-03.parquet\n",
      "done with yellow_tripdata_2010-04.parquet\n",
      "done with yellow_tripdata_2010-05.parquet\n",
      "done with yellow_tripdata_2010-06.parquet\n",
      "done with yellow_tripdata_2010-07.parquet\n",
      "done with yellow_tripdata_2010-08.parquet\n",
      "done with yellow_tripdata_2010-09.parquet\n",
      "done with yellow_tripdata_2010-10.parquet\n",
      "done with yellow_tripdata_2010-11.parquet\n",
      "done with yellow_tripdata_2010-12.parquet\n",
      "done with yellow_tripdata_2009-01.parquet\n",
      "done with yellow_tripdata_2009-02.parquet\n",
      "done with yellow_tripdata_2009-03.parquet\n",
      "done with yellow_tripdata_2009-04.parquet\n",
      "done with yellow_tripdata_2009-05.parquet\n",
      "done with yellow_tripdata_2009-06.parquet\n",
      "done with yellow_tripdata_2009-07.parquet\n",
      "done with yellow_tripdata_2009-08.parquet\n",
      "done with yellow_tripdata_2009-09.parquet\n",
      "done with yellow_tripdata_2009-10.parquet\n",
      "done with yellow_tripdata_2009-11.parquet\n",
      "done with yellow_tripdata_2009-12.parquet\n",
      "CPU times: user 24min 12s, sys: 20min 33s, total: 44min 46s\n",
      "Wall time: 39min 4s\n"
     ]
    }
   ],
   "source": [
    "%%time\n",
    "taxi_data = get_and_clean_taxi_data()\n",
    "uber_data = get_uber_data()\n",
    "hourly_data, daily_data = load_and_clean_weather_data()"
   ]
  },
  {
   "cell_type": "markdown",
   "id": "dd101f11",
   "metadata": {},
   "source": [
    "## Part 2: Storing Cleaned Data\n",
    "\n",
    "We are going to store all the data cleaned before"
   ]
  },
  {
   "cell_type": "code",
   "execution_count": 13,
   "id": "f3529cf6",
   "metadata": {},
   "outputs": [],
   "source": [
    "#let's create a DataBase first\n",
    "engine = db.create_engine(DATABASE_URL)"
   ]
  },
  {
   "cell_type": "code",
   "execution_count": 14,
   "id": "d2bea0ff",
   "metadata": {},
   "outputs": [],
   "source": [
    "# if using SQL (as opposed to SQLAlchemy), define the commands \n",
    "# to create your 4 tables/dataframes\n",
    "\n",
    "#let's create the queries that will create all the tables needed\n",
    "\n",
    "HOURLY_WEATHER_SCHEMA = \"\"\"\n",
    "CREATE TABLE IF NOT EXISTS hourly_weather (\n",
    "    id INTEGER PRIMARY KEY AUTOINCREMENT,\n",
    "    DATE DATE,\n",
    "    HourlyWindSpeed FLOAT32,\n",
    "    HourlyPrecipitation FLOAT32\n",
    ");\n",
    "\"\"\"\n",
    "\n",
    "DAILY_WEATHER_SCHEMA = \"\"\"\n",
    "CREATE TABLE IF NOT EXISTS daily_weather (\n",
    "    id INTEGER PRIMARY KEY AUTOINCREMENT,\n",
    "    DATE DATE,\n",
    "    DailyWindSpeed FLOAT32,\n",
    "    DailyPrecipitation FLOAT32\n",
    ");\n",
    "\"\"\"\n",
    "\n",
    "TAXI_TRIPS_SCHEMA = \"\"\"\n",
    "CREATE TABLE IF NOT EXISTS taxi_trips (\n",
    "    id INTEGER PRIMARY KEY AUTOINCREMENT,\n",
    "    pickup_datetime DATE,\n",
    "    tip_amount FLOAT32,\n",
    "    pickup_latitude FLOAT32,\n",
    "    pickup_longitude FLOAT32,\n",
    "    dropoff_latitude FLOAT32,\n",
    "    dropoff_longitude FLOAT32,\n",
    "    distance FLOAT32\n",
    ");\n",
    "\"\"\"\n",
    "\n",
    "UBER_TRIPS_SCHEMA = \"\"\"\n",
    "CREATE TABLE IF NOT EXISTS uber_trips (\n",
    "    id INTEGER PRIMARY KEY AUTOINCREMENT,\n",
    "    pickup_datetime DATE,\n",
    "    pickup_latitude FLOAT32,\n",
    "    pickup_longitude FLOAT32,\n",
    "    dropoff_latitude FLOAT32,\n",
    "    dropoff_longitude FLOAT32,\n",
    "    distance FLOAT32\n",
    ");\n",
    " \"\"\""
   ]
  },
  {
   "cell_type": "code",
   "execution_count": 15,
   "id": "5f41e54b",
   "metadata": {},
   "outputs": [],
   "source": [
    "# create that required schema.sql file\n",
    "with open(DATABASE_SCHEMA_FILE, \"w\") as f:\n",
    "    f.write(HOURLY_WEATHER_SCHEMA)\n",
    "    f.write(DAILY_WEATHER_SCHEMA)\n",
    "    f.write(TAXI_TRIPS_SCHEMA)\n",
    "    f.write(UBER_TRIPS_SCHEMA)"
   ]
  },
  {
   "cell_type": "code",
   "execution_count": 16,
   "id": "02eccdba",
   "metadata": {},
   "outputs": [],
   "source": [
    "# create the tables with the schema files\n",
    "with engine.connect() as connection:\n",
    "    #open the file\n",
    "    fd = open(DATABASE_SCHEMA_FILE, 'r')\n",
    "    \n",
    "    #get the content of the file\n",
    "    sqlFile = fd.read()\n",
    "    \n",
    "    #close the file\n",
    "    fd.close()\n",
    "    \n",
    "    #get the queries, which are separated by a ;\n",
    "    sql_queries = sqlFile.split(';')\n",
    "    \n",
    "    #execute each query, one at a time\n",
    "    for query in sql_queries:\n",
    "        connection.execute(query)\n",
    "    "
   ]
  },
  {
   "cell_type": "markdown",
   "id": "c122964f",
   "metadata": {},
   "source": [
    "### Add Data to Database\n",
    "\n",
    "We are going to fill the tables just created "
   ]
  },
  {
   "cell_type": "code",
   "execution_count": 17,
   "id": "0e68a363",
   "metadata": {},
   "outputs": [],
   "source": [
    "def write_dataframes_to_table(table_to_df_dict):\n",
    "    ''' converts all the pandas dataframe into corresponding sql tables\n",
    "    \n",
    "    Keyword arguments:\n",
    "    table_to_df_dict: a dictionary with name of the sql table as a key and dataframe as a value\n",
    "    '''\n",
    "    #we convert one by one, all the dataframes that we have in our dictionary\n",
    "    for table, dataframe in table_to_df_dict.items():\n",
    "        dataframe.to_sql(table, engine,if_exists='append', index=False)\n",
    "        "
   ]
  },
  {
   "cell_type": "code",
   "execution_count": 18,
   "id": "1340c0c8",
   "metadata": {},
   "outputs": [],
   "source": [
    "#++++++++++++++++++++++++FOR FINAL VERSION, REMOVE THIS +++++++++++++++++++++++++++\"\n",
    "taxi_data=pd.read_csv(\"taxi_data.csv\")\n",
    "uber_data=pd.read_csv(\"uber_data.csv\")\n",
    "hourly_data=pd.read_csv(\"hourly_data.csv\")\n",
    "daily_data=pd.read_csv(\"daily_data.csv\")"
   ]
  },
  {
   "cell_type": "code",
   "execution_count": 19,
   "id": "45d6c06c",
   "metadata": {},
   "outputs": [],
   "source": [
    "# a dictionary with name of the sql table as a key and dataframe as a value\n",
    "map_table_name_to_dataframe = {\n",
    "    \"taxi_trips\": taxi_data,\n",
    "    \"uber_trips\": uber_data,\n",
    "    \"hourly_weather\": hourly_data,\n",
    "    \"daily_weather\": daily_data,\n",
    "}"
   ]
  },
  {
   "cell_type": "code",
   "execution_count": 20,
   "id": "74004f96",
   "metadata": {},
   "outputs": [],
   "source": [
    "#fill all the tables created before\n",
    "write_dataframes_to_table(map_table_name_to_dataframe)"
   ]
  },
  {
   "cell_type": "code",
   "execution_count": 21,
   "id": "da1e35cd",
   "metadata": {},
   "outputs": [
    {
     "name": "stdout",
     "output_type": "stream",
     "text": [
      "(1, '2009-08-24 21:45:00', 40.74077, -74.00504, 40.772648, -73.96256, 5.04)\n",
      "(2, '2009-06-26 08:22:21', 40.790844, -73.97613, 40.80335, -73.96532, 1.66)\n",
      "(3, '2014-08-28 17:47:00', 40.744083, -73.925026, 40.761246, -73.97308, 4.48)\n",
      "(4, '2014-10-12 07:04:00', 40.693966, -73.96145, 40.774296, -73.87119, 11.73)\n",
      "(5, '2012-02-17 09:32:00', 40.745766, -73.97519, 40.743538, -74.00272, 2.33)\n"
     ]
    }
   ],
   "source": [
    "#TEST CELL\n",
    "\n",
    "result=engine.execute(\"SELECT * FROM uber_trips LIMIT 5\").fetchall()\n",
    "\n",
    "for row in result:\n",
    "    print(row)"
   ]
  },
  {
   "cell_type": "markdown",
   "id": "8cb6e33e",
   "metadata": {},
   "source": [
    "## Part 3: Understanding the Data"
   ]
  },
  {
   "cell_type": "markdown",
   "id": "b4753fcd",
   "metadata": {},
   "source": [
    "_A checklist of requirements to keep you on track. Remove this whole cell before submitting the project. The order of these tasks aren't necessarily the order in which they need to be done. It's okay to do them in an order that makes sense to you._\n",
    "\n",
    "* [ ] For 01-2009 through 06-2015, what hour of the day was the most popular to take a yellow taxi? The result should have 24 bins.\n",
    "* [ ] For the same time frame, what day of the week was the most popular to take an uber? The result should have 7 bins.\n",
    "* [ ] What is the 95% percentile of distance traveled for all hired trips during July 2013?\n",
    "* [ ] What were the top 10 days with the highest number of hired rides for 2009, and what was the average distance for each day?\n",
    "* [ ] Which 10 days in 2014 were the windiest, and how many hired trips were made on those days?\n",
    "* [ ] During Hurricane Sandy in NYC (Oct 29-30, 2012) and the week leading up to it, how many trips were taken each hour, and for each hour, how much precipitation did NYC receive and what was the sustained wind speed?"
   ]
  },
  {
   "cell_type": "code",
   "execution_count": 22,
   "id": "6a849e92",
   "metadata": {},
   "outputs": [],
   "source": [
    "def write_query_to_file(query, outfile):\n",
    "    \n",
    "    '''It writes the given query on to the file\n",
    "\n",
    "    Keyword arguments:\n",
    "    query -- Query to write into the file\n",
    "    outfile -- This is the file name where the query will be written into\n",
    "    '''\n",
    "    with open(QUERY_DIRECTORY + outfile, \"w\") as f:\n",
    "        f.write(query)"
   ]
  },
  {
   "cell_type": "markdown",
   "id": "ee70a777",
   "metadata": {},
   "source": [
    "### Query 1\n",
    "\n",
    "Write some prose that tells the reader what you're about to do here.\n"
   ]
  },
  {
   "cell_type": "code",
   "execution_count": 23,
   "id": "db871d3c",
   "metadata": {},
   "outputs": [],
   "source": [
    "QUERY_1 = \"\"\"\n",
    "SELECT COUNT(Id) AS num,strftime ('%H', pickup_datetime) AS time\n",
    "FROM taxi_trips\n",
    "WHERE pickup_datetime between '2009-01-01' and '2015-06-31'\n",
    "GROUP BY time\n",
    "ORDER BY num DESC \n",
    "\"\"\"\n"
   ]
  },
  {
   "cell_type": "code",
   "execution_count": 24,
   "id": "c5275f3a",
   "metadata": {},
   "outputs": [
    {
     "data": {
      "text/plain": [
       "[(11582, '19'),\n",
       " (11219, '18'),\n",
       " (10974, '20'),\n",
       " (10608, '21'),\n",
       " (10431, '22'),\n",
       " (9300, '23'),\n",
       " (9285, '17'),\n",
       " (9215, '14'),\n",
       " (9057, '12'),\n",
       " (9035, '13'),\n",
       " (8891, '15'),\n",
       " (8731, '09'),\n",
       " (8631, '11'),\n",
       " (8472, '10'),\n",
       " (8358, '08'),\n",
       " (7570, '16'),\n",
       " (7285, '00'),\n",
       " (6460, '07'),\n",
       " (5409, '01'),\n",
       " (4077, '02'),\n",
       " (3854, '06'),\n",
       " (2984, '03'),\n",
       " (2210, '04'),\n",
       " (1768, '05')]"
      ]
     },
     "execution_count": 24,
     "metadata": {},
     "output_type": "execute_result"
    }
   ],
   "source": [
    "engine.execute(QUERY_1).fetchall()"
   ]
  },
  {
   "cell_type": "code",
   "execution_count": 25,
   "id": "a2ef04df",
   "metadata": {
    "scrolled": true
   },
   "outputs": [],
   "source": [
    "write_query_to_file(QUERY_1, \"most_popular_hour_taxi.sql\")"
   ]
  },
  {
   "cell_type": "markdown",
   "id": "1595c7a7",
   "metadata": {},
   "source": [
    "### Query 2\n",
    "\n",
    "Write some prose that tells the reader what you're about to do here.\n"
   ]
  },
  {
   "cell_type": "code",
   "execution_count": 26,
   "id": "69e30f87",
   "metadata": {},
   "outputs": [],
   "source": [
    "QUERY_2 = \"\"\"\n",
    "SELECT COUNT(Id) as num,strftime ('%w', pickup_datetime) \n",
    "FROM uber_trips\n",
    "WHERE pickup_datetime between '2009-01-01' and '2015-06-31'\n",
    "GROUP BY strftime ('%w',pickup_datetime)\n",
    "ORDER BY num DESC \n",
    "\"\"\""
   ]
  },
  {
   "cell_type": "code",
   "execution_count": 27,
   "id": "dbe9c45f",
   "metadata": {},
   "outputs": [
    {
     "data": {
      "text/plain": [
       "[(28518, '5'),\n",
       " (28028, '6'),\n",
       " (27786, '4'),\n",
       " (26823, '3'),\n",
       " (25953, '2'),\n",
       " (24418, '0'),\n",
       " (23305, '1')]"
      ]
     },
     "execution_count": 27,
     "metadata": {},
     "output_type": "execute_result"
    }
   ],
   "source": [
    "engine.execute(QUERY_2).fetchall()"
   ]
  },
  {
   "cell_type": "code",
   "execution_count": 28,
   "id": "ea687102",
   "metadata": {},
   "outputs": [],
   "source": [
    "write_query_to_file(QUERY_2, \"most_popular_day_uber.sql\")"
   ]
  },
  {
   "cell_type": "markdown",
   "id": "3354666f",
   "metadata": {},
   "source": [
    "### Query 3\n",
    "\n",
    "Write some prose that tells the reader what you're about to do here.\n"
   ]
  },
  {
   "cell_type": "code",
   "execution_count": 29,
   "id": "e22e3065",
   "metadata": {},
   "outputs": [],
   "source": [
    "QUERY_3= \"\"\"\n",
    "WITH all_hired_trips AS (\n",
    "    SELECT pickup_datetime, distance\n",
    "    FROM taxi_trips\n",
    "    WHERE pickup_datetime between '2013-07-01' and '2013-07-31'\n",
    "    UNION ALL\n",
    "    SELECT pickup_datetime, distance\n",
    "    FROM uber_trips\n",
    "    WHERE pickup_datetime between '2013-07-01' and '2013-08-01'\n",
    ")\n",
    "SELECT distance\n",
    "FROM all_hired_trips\n",
    "ORDER BY distance \n",
    "LIMIT 1\n",
    "OFFSET (SELECT COUNT(*) FROM all_hired_trips) * 95 / 100 - 1\n",
    "\"\"\"\n"
   ]
  },
  {
   "cell_type": "code",
   "execution_count": 30,
   "id": "30371441",
   "metadata": {},
   "outputs": [
    {
     "data": {
      "text/plain": [
       "[(10.53,)]"
      ]
     },
     "execution_count": 30,
     "metadata": {},
     "output_type": "execute_result"
    }
   ],
   "source": [
    "engine.execute(QUERY_3).fetchall()"
   ]
  },
  {
   "cell_type": "code",
   "execution_count": 31,
   "id": "da702612",
   "metadata": {},
   "outputs": [],
   "source": [
    "write_query_to_file(QUERY_3, \"95_percentile_distance.sql\")"
   ]
  },
  {
   "cell_type": "markdown",
   "id": "81ae1171",
   "metadata": {},
   "source": [
    "### Query 4\n",
    "\n",
    "Write some prose that tells the reader what you're about to do here.\n"
   ]
  },
  {
   "cell_type": "code",
   "execution_count": 32,
   "id": "81c86796",
   "metadata": {},
   "outputs": [],
   "source": [
    "QUERY_4= \"\"\"\n",
    "WITH all_hired_trips AS (\n",
    "    SELECT pickup_datetime, distance\n",
    "    FROM taxi_trips\n",
    "    WHERE pickup_datetime between '2009-01-01' and '2010-01-01'\n",
    "    UNION ALL\n",
    "    SELECT pickup_datetime, distance\n",
    "    FROM uber_trips\n",
    "    WHERE pickup_datetime between '2009-01-01' and '2010-01-01'\n",
    ")\n",
    "SELECT date(pickup_datetime) as day, AVG(distance) as avg_distance, COUNT(*) as num_rides \n",
    "FROM all_hired_trips\n",
    "GROUP BY date(pickup_datetime)\n",
    "ORDER BY num_rides DESC\n",
    "LIMIT 10\n",
    "\"\"\"\n"
   ]
  },
  {
   "cell_type": "code",
   "execution_count": 33,
   "id": "f5960c39",
   "metadata": {},
   "outputs": [
    {
     "data": {
      "text/plain": [
       "[('2009-12-11', 2.8654504504504517, 222),\n",
       " ('2009-04-03', 2.948373205741629, 209),\n",
       " ('2009-11-07', 3.3513333333333346, 195),\n",
       " ('2009-12-09', 3.282061855670102, 194),\n",
       " ('2009-10-23', 2.5473195876288672, 194),\n",
       " ('2009-04-24', 3.3376804123711348, 194),\n",
       " ('2009-05-16', 3.103160621761657, 193),\n",
       " ('2009-04-18', 3.329274611398964, 193),\n",
       " ('2009-12-18', 3.448020833333333, 192),\n",
       " ('2009-08-14', 3.6868229166666655, 192)]"
      ]
     },
     "execution_count": 33,
     "metadata": {},
     "output_type": "execute_result"
    }
   ],
   "source": [
    "engine.execute(QUERY_4).fetchall()"
   ]
  },
  {
   "cell_type": "code",
   "execution_count": 34,
   "id": "3aa917ff",
   "metadata": {},
   "outputs": [],
   "source": [
    "write_query_to_file(QUERY_4, \"top10_day_rides_2009.sql\")"
   ]
  },
  {
   "cell_type": "markdown",
   "id": "72fd9dd2",
   "metadata": {},
   "source": [
    "### Query 5\n",
    "\n",
    "Write some prose that tells the reader what you're about to do here.\n"
   ]
  },
  {
   "cell_type": "code",
   "execution_count": 39,
   "id": "1d2ada7e",
   "metadata": {},
   "outputs": [],
   "source": [
    "QUERY_5= \"\"\"\n",
    "WITH all_hired_trips AS (\n",
    "    SELECT date(pickup_datetime) as pickup_date, distance\n",
    "    FROM taxi_trips\n",
    "    UNION ALL\n",
    "    SELECT date(pickup_datetime) as pickup_date, distance\n",
    "    FROM uber_trips\n",
    "),\n",
    "windiest_days AS (\n",
    "    SELECT date(DATE) AS DATE, DailyWindSpeed\n",
    "    FROM daily_weather\n",
    "    WHERE DATE between '2014-01-01' and '2015-01-01'\n",
    "    ORDER BY DailyWindSpeed DESC\n",
    "    LIMIT 10\n",
    ")\n",
    "SELECT wd.DATE, COUNT(*)\n",
    "FROM windiest_days as wd, all_hired_trips as ht\n",
    "WHERE wd.DATE == ht.pickup_date\n",
    "GROUP BY wd.DATE\n",
    "\"\"\""
   ]
  },
  {
   "cell_type": "code",
   "execution_count": 40,
   "id": "2a61cffb",
   "metadata": {},
   "outputs": [
    {
     "data": {
      "text/plain": [
       "[('2014-01-02', 112),\n",
       " ('2014-01-07', 145),\n",
       " ('2014-02-13', 115),\n",
       " ('2014-03-13', 183),\n",
       " ('2014-03-26', 172),\n",
       " ('2014-03-29', 202),\n",
       " ('2014-11-02', 147),\n",
       " ('2014-12-07', 150),\n",
       " ('2014-12-08', 165),\n",
       " ('2014-12-09', 149)]"
      ]
     },
     "execution_count": 40,
     "metadata": {},
     "output_type": "execute_result"
    }
   ],
   "source": [
    "engine.execute(QUERY_5).fetchall()"
   ]
  },
  {
   "cell_type": "code",
   "execution_count": 41,
   "id": "38e278e8",
   "metadata": {},
   "outputs": [],
   "source": [
    "write_query_to_file(QUERY_5, \"top10_windiest_day_2014.sql\")"
   ]
  },
  {
   "cell_type": "markdown",
   "id": "589f0539",
   "metadata": {},
   "source": [
    "### Query 6\n",
    "\n",
    "Write some prose that tells the reader what you're about to do here.\n"
   ]
  },
  {
   "cell_type": "code",
   "execution_count": 42,
   "id": "1ade5608",
   "metadata": {},
   "outputs": [],
   "source": [
    "QUERY_6='''\n",
    "\n",
    "WITH hourly_data AS (\n",
    "SELECT strftime ('%Y %m %d %H', DATE) as date_hour, AVG(HourlyWindSpeed) as hourly_wind_speed, AVG(HourlyPrecipitation) as hourly_precipitation \n",
    "FROM hourly_weather\n",
    "WHERE DATE between '2012-10-22' and '2012-11-05'\n",
    "GROUP BY date_hour ),\n",
    "\n",
    "hired_trips AS (\n",
    "SELECT strftime ('%Y %m %d %H', pickup_datetime) as pick_up_date_hour, distance\n",
    "    FROM taxi_trips\n",
    "    WHERE pickup_datetime between '2012-10-22' and '2012-11-05'\n",
    "    UNION ALL\n",
    "    SELECT strftime ('%Y %m %d %H', pickup_datetime) as pick_up_date_hour, distance\n",
    "    FROM uber_trips\n",
    "    WHERE pickup_datetime between '2012-10-22' and '2012-11-05'\n",
    ")\n",
    "SELECT hourly_data.date_hour as date, COALESCE(COUNT(hired_trips.pick_up_date_hour),0) AS num, hourly_wind_speed, hourly_precipitation\n",
    "FROM hourly_data\n",
    "LEFT JOIN hired_trips\n",
    "ON date_hour = hired_trips.pick_up_date_hour\n",
    "GROUP BY hourly_data.date_hour\n",
    "\n",
    "\n",
    "'''"
   ]
  },
  {
   "cell_type": "code",
   "execution_count": 43,
   "id": "1a55e297",
   "metadata": {},
   "outputs": [
    {
     "data": {
      "text/plain": [
       "[('2012 10 22 00', 2, 7.0, 0.0),\n",
       " ('2012 10 22 01', 1, 5.0, 0.0),\n",
       " ('2012 10 22 02', 3, 7.0, 0.0),\n",
       " ('2012 10 22 03', 1, 0.0, 0.0),\n",
       " ('2012 10 22 04', 1, 0.0, 0.0),\n",
       " ('2012 10 22 05', 2, 0.0, 0.0),\n",
       " ('2012 10 22 06', 4, 5.0, 0.0),\n",
       " ('2012 10 22 07', 5, 3.0, 0.0),\n",
       " ('2012 10 22 08', 3, 3.0, 0.0),\n",
       " ('2012 10 22 09', 9, 5.0, 0.0),\n",
       " ('2012 10 22 12', 7, 11.0, 0.0),\n",
       " ('2012 10 22 14', 6, 7.0, 0.0),\n",
       " ('2012 10 22 15', 5, 6.0, 0.0),\n",
       " ('2012 10 22 16', 8, 3.0, 0.0),\n",
       " ('2012 10 22 17', 8, 7.0, 0.0),\n",
       " ('2012 10 22 18', 10, 5.0, 0.0),\n",
       " ('2012 10 22 19', 6, 5.0, 0.0),\n",
       " ('2012 10 22 20', 10, 3.0, 0.0),\n",
       " ('2012 10 22 21', 5, 0.0, 0.0),\n",
       " ('2012 10 22 22', 8, 3.0, 0.0),\n",
       " ('2012 10 22 23', 0, 3.0, 0.0),\n",
       " ('2012 10 23 00', 5, 3.0, 0.0),\n",
       " ('2012 10 23 01', 1, 0.0, 0.0),\n",
       " ('2012 10 23 02', 2, 3.0, 0.0),\n",
       " ('2012 10 23 03', 2, 0.0, 0.0),\n",
       " ('2012 10 23 04', 1, 3.0, 0.0),\n",
       " ('2012 10 23 05', 2, 0.0, 0.0),\n",
       " ('2012 10 23 06', 4, 0.0, 0.0),\n",
       " ('2012 10 23 07', 9, 0.0, 0.0),\n",
       " ('2012 10 23 08', 16, 0.0, 0.0),\n",
       " ('2012 10 23 09', 9, 3.0, 0.0),\n",
       " ('2012 10 23 10', 11, 0.0, 0.0),\n",
       " ('2012 10 23 11', 6, 3.0, 0.0),\n",
       " ('2012 10 23 12', 3, 0.0, 0.0),\n",
       " ('2012 10 23 16', 3, 3.0, 0.0),\n",
       " ('2012 10 23 18', 11, 5.0, 0.0),\n",
       " ('2012 10 23 19', 4, 0.0, 0.0),\n",
       " ('2012 10 23 20', 16, 0.0, 0.02),\n",
       " ('2012 10 23 21', 13, 5.0, 0.0),\n",
       " ('2012 10 23 22', 11, 0.0, 0.01),\n",
       " ('2012 10 23 23', 4, 5.0, 0.0),\n",
       " ('2012 10 24 00', 2, 3.0, 0.0),\n",
       " ('2012 10 24 01', 0, 5.5, 0.0),\n",
       " ('2012 10 24 02', 6, 5.75, 0.0),\n",
       " ('2012 10 24 03', 1, 7.0, 0.0),\n",
       " ('2012 10 24 04', 0, 7.0, 0.0),\n",
       " ('2012 10 24 05', 4, 6.0, 0.0),\n",
       " ('2012 10 24 06', 4, 4.0, 0.0),\n",
       " ('2012 10 24 07', 5, 1.6666666666666667, 0.0),\n",
       " ('2012 10 24 08', 4, 0.0, 0.0),\n",
       " ('2012 10 24 09', 4, 1.5, 0.0),\n",
       " ('2012 10 24 10', 5, 7.0, 0.0),\n",
       " ('2012 10 24 11', 6, 7.0, 0.0),\n",
       " ('2012 10 24 12', 6, 7.333333333333333, 0.0),\n",
       " ('2012 10 24 13', 7, 8.0, 0.0),\n",
       " ('2012 10 24 14', 4, 6.5, 0.0),\n",
       " ('2012 10 24 15', 8, 7.0, 0.0),\n",
       " ('2012 10 24 16', 5, 8.0, 0.0),\n",
       " ('2012 10 24 17', 10, 5.0, 0.0),\n",
       " ('2012 10 24 18', 6, 7.0, 0.0),\n",
       " ('2012 10 24 19', 14, 8.0, 0.0),\n",
       " ('2012 10 24 20', 12, 1.5, 0.0),\n",
       " ('2012 10 24 21', 16, 4.0, 0.0),\n",
       " ('2012 10 24 22', 10, 5.5, 0.0),\n",
       " ('2012 10 24 23', 5, 0.0, 0.0),\n",
       " ('2012 10 25 00', 6, 4.5, 0.0),\n",
       " ('2012 10 25 01', 2, 3.0, 0.0),\n",
       " ('2012 10 25 02', 4, 3.0, 0.0),\n",
       " ('2012 10 25 03', 1, 6.5, 0.0),\n",
       " ('2012 10 25 04', 1, 6.0, 0.0),\n",
       " ('2012 10 25 05', 2, 0.0, 0.0),\n",
       " ('2012 10 25 06', 6, 5.0, 0.0),\n",
       " ('2012 10 25 07', 6, 6.0, 0.0),\n",
       " ('2012 10 25 08', 11, 5.0, 0.0),\n",
       " ('2012 10 25 09', 8, 3.0, 0.0),\n",
       " ('2012 10 25 10', 7, 6.0, 0.0),\n",
       " ('2012 10 25 11', 9, 0.0, 0.0),\n",
       " ('2012 10 25 12', 13, 6.0, 0.0),\n",
       " ('2012 10 25 13', 7, 0.0, 0.0),\n",
       " ('2012 10 25 14', 6, 5.0, 0.0),\n",
       " ('2012 10 25 15', 7, 5.0, 0.0),\n",
       " ('2012 10 25 16', 6, 0.0, 0.0),\n",
       " ('2012 10 25 17', 11, 3.0, 0.0),\n",
       " ('2012 10 25 18', 10, 0.0, 0.0),\n",
       " ('2012 10 25 19', 6, 0.0, 0.0),\n",
       " ('2012 10 25 20', 18, 3.0, 0.0),\n",
       " ('2012 10 25 21', 10, 3.0, 0.0),\n",
       " ('2012 10 25 22', 12, 3.0, 0.0),\n",
       " ('2012 10 25 23', 8, 0.0, 0.0),\n",
       " ('2012 10 26 00', 11, 2.6666666666666665, 0.0),\n",
       " ('2012 10 26 01', 4, 0.0, 0.0),\n",
       " ('2012 10 26 02', 5, 0.0, 0.0),\n",
       " ('2012 10 26 03', 3, 3.0, 0.0),\n",
       " ('2012 10 26 04', 3, 0.0, 0.0),\n",
       " ('2012 10 26 05', 1, 0.0, 0.0),\n",
       " ('2012 10 26 06', 4, 0.0, 0.0),\n",
       " ('2012 10 26 07', 7, 3.0, 0.0),\n",
       " ('2012 10 26 08', 6, 3.0, 0.0),\n",
       " ('2012 10 26 09', 10, 3.0, 0.0),\n",
       " ('2012 10 26 10', 6, 3.0, 0.0),\n",
       " ('2012 10 26 11', 9, 3.0, 0.0),\n",
       " ('2012 10 26 12', 10, 0.0, 0.0),\n",
       " ('2012 10 26 13', 8, 3.0, 0.0),\n",
       " ('2012 10 26 14', 7, 3.0, 0.0),\n",
       " ('2012 10 26 15', 7, 0.0, 0.0),\n",
       " ('2012 10 26 16', 6, 0.0, 0.0),\n",
       " ('2012 10 26 17', 7, 0.0, 0.0),\n",
       " ('2012 10 26 18', 7, 0.0, 0.0),\n",
       " ('2012 10 26 19', 8, 0.0, 0.0),\n",
       " ('2012 10 26 20', 14, 3.0, 0.0),\n",
       " ('2012 10 26 21', 9, 3.0, 0.0),\n",
       " ('2012 10 26 22', 13, 0.0, 0.0),\n",
       " ('2012 10 26 23', 8, 0.0, 0.0),\n",
       " ('2012 10 27 00', 7, 3.0, 0.0),\n",
       " ('2012 10 27 01', 8, 0.0, 0.0),\n",
       " ('2012 10 27 02', 10, 3.0, 0.0),\n",
       " ('2012 10 27 03', 8, 0.0, 0.0),\n",
       " ('2012 10 27 04', 3, 6.0, 0.0),\n",
       " ('2012 10 27 05', 4, 6.0, 0.0),\n",
       " ('2012 10 27 06', 1, 6.0, 0.0),\n",
       " ('2012 10 27 07', 1, 4.0, 0.0),\n",
       " ('2012 10 27 08', 3, 6.0, 0.0),\n",
       " ('2012 10 27 09', 8, 6.0, 0.0),\n",
       " ('2012 10 27 10', 2, 8.0, 0.0),\n",
       " ('2012 10 27 11', 2, 5.75, 0.0),\n",
       " ('2012 10 27 12', 6, 8.0, 0.0),\n",
       " ('2012 10 27 13', 4, 8.0, 0.0),\n",
       " ('2012 10 27 14', 7, 10.0, 0.0),\n",
       " ('2012 10 27 15', 6, 10.0, 0.0),\n",
       " ('2012 10 27 16', 9, 7.0, 0.0),\n",
       " ('2012 10 27 17', 14, 7.0, 0.0),\n",
       " ('2012 10 27 18', 8, 7.0, 0.0),\n",
       " ('2012 10 27 19', 11, 8.0, 0.0),\n",
       " ('2012 10 27 20', 17, 7.0, 0.0),\n",
       " ('2012 10 27 21', 10, 9.0, 0.0),\n",
       " ('2012 10 27 22', 11, 9.0, 0.0),\n",
       " ('2012 10 27 23', 11, 8.0, 0.0),\n",
       " ('2012 10 28 00', 11, 11.0, 0.0),\n",
       " ('2012 10 28 01', 13, 8.0, 0.0),\n",
       " ('2012 10 28 02', 8, 8.0, 0.0),\n",
       " ('2012 10 28 03', 6, 9.0, 0.0),\n",
       " ('2012 10 28 04', 10, 10.0, 0.0),\n",
       " ('2012 10 28 05', 2, 11.0, 0.0),\n",
       " ('2012 10 28 06', 2, 10.0, 0.0),\n",
       " ('2012 10 28 07', 5, 11.0, 0.0),\n",
       " ('2012 10 28 08', 1, 11.0, 0.0),\n",
       " ('2012 10 28 09', 9, 11.0, 0.0),\n",
       " ('2012 10 28 10', 5, 10.0, 0.0),\n",
       " ('2012 10 28 11', 7, 8.0, 0.0),\n",
       " ('2012 10 28 12', 5, 7.0, 0.0),\n",
       " ('2012 10 28 13', 8, 13.0, 0.0),\n",
       " ('2012 10 28 14', 9, 13.0, 0.0),\n",
       " ('2012 10 28 15', 9, 13.0, 0.0),\n",
       " ('2012 10 28 16', 6, 16.0, 0.0),\n",
       " ('2012 10 28 17', 7, 11.0, 0.0),\n",
       " ('2012 10 28 18', 6, 15.0, 0.0),\n",
       " ('2012 10 28 19', 4, 14.0, 0.0),\n",
       " ('2012 10 28 20', 4, 16.0, 0.0),\n",
       " ('2012 10 28 21', 5, 14.0, 0.0),\n",
       " ('2012 10 28 22', 5, 16.0, 0.0),\n",
       " ('2012 10 28 23', 6, 14.0, 0.0),\n",
       " ('2012 10 29 00', 3, 16.0, 0.0),\n",
       " ('2012 10 29 01', 0, 11.0, 0.0),\n",
       " ('2012 10 29 02', 3, 13.0, 0.0),\n",
       " ('2012 10 29 03', 0, 17.0, 0.0),\n",
       " ('2012 10 29 04', 1, 15.0, 0.0),\n",
       " ('2012 10 29 05', 0, 15.0, 0.0),\n",
       " ('2012 10 29 06', 1, 16.0, 0.02),\n",
       " ('2012 10 29 07', 3, 17.0, 0.02),\n",
       " ('2012 10 29 08', 1, 21.0, 0.0),\n",
       " ('2012 10 29 09', 3, 16.0, 0.0),\n",
       " ('2012 10 29 11', 4, 17.5, 0.015000000000000001),\n",
       " ('2012 10 29 12', 4, 19.2, 0.04),\n",
       " ('2012 10 29 13', 0, 26.666666666666668, 0.03),\n",
       " ('2012 10 29 14', 2, 26.75, 0.025),\n",
       " ('2012 10 29 15', 4, 25.0, 0.09),\n",
       " ('2012 10 29 16', 0, 26.0, 0.10000000000000002),\n",
       " ('2012 10 29 17', 3, 21.5, 0.055),\n",
       " ('2012 10 29 18', 3, 23.0, 0.02),\n",
       " ('2012 10 29 19', 1, 25.0, 0.01),\n",
       " ('2012 10 29 20', 1, 17.0, 0.0),\n",
       " ('2012 10 29 21', 1, 15.0, 0.0),\n",
       " ('2012 10 29 22', 0, 9.0, 0.02),\n",
       " ('2012 10 29 23', 0, 10.5, 0.045),\n",
       " ('2012 10 30 00', 2, 11.5, 0.025),\n",
       " ('2012 10 30 01', 0, 10.0, 0.0),\n",
       " ('2012 10 30 02', 1, 9.0, 0.03),\n",
       " ('2012 10 30 03', 1, 17.0, 0.04),\n",
       " ('2012 10 30 04', 1, 9.0, 0.0),\n",
       " ('2012 10 30 05', 0, 7.0, 0.01),\n",
       " ('2012 10 30 06', 0, 7.0, 0.01),\n",
       " ('2012 10 30 07', 0, 10.0, 0.0),\n",
       " ('2012 10 30 08', 0, 8.0, 0.02),\n",
       " ('2012 10 30 09', 2, 12.0, 0.05333333333333332),\n",
       " ('2012 10 30 10', 3, 8.0, 0.023333333333333334),\n",
       " ('2012 10 30 11', 4, 7.0, 0.0),\n",
       " ('2012 10 30 12', 3, 8.0, 0.0),\n",
       " ('2012 10 30 13', 4, 6.0, 0.0),\n",
       " ('2012 10 30 16', 4, 4.666666666666667, 0.01),\n",
       " ('2012 10 30 17', 4, 5.5, 0.0),\n",
       " ('2012 10 30 18', 5, 5.0, 0.0),\n",
       " ('2012 10 30 19', 5, 3.0, 0.0),\n",
       " ('2012 10 30 20', 3, 3.5, 0.0),\n",
       " ('2012 10 30 21', 2, 5.0, 0.0),\n",
       " ('2012 10 30 22', 4, 7.0, 0.0),\n",
       " ('2012 10 30 23', 3, 7.0, 0.0),\n",
       " ('2012 10 31 00', 0, 2.6666666666666665, 0.0),\n",
       " ('2012 10 31 01', 0, 5.0, 0.01),\n",
       " ('2012 10 31 02', 3, 0.0, 0.0),\n",
       " ('2012 10 31 03', 1, 8.0, 0.0),\n",
       " ('2012 10 31 05', 0, 0.0, 0.0),\n",
       " ('2012 10 31 06', 6, 6.0, 0.0),\n",
       " ('2012 10 31 07', 5, 8.0, 0.0),\n",
       " ('2012 10 31 08', 1, 7.666666666666667, 0.0),\n",
       " ('2012 10 31 09', 2, 7.0, 0.0),\n",
       " ('2012 10 31 10', 3, 4.0, 0.0),\n",
       " ('2012 10 31 11', 5, 5.0, 0.0),\n",
       " ('2012 10 31 12', 4, 6.0, 0.0),\n",
       " ('2012 10 31 13', 3, 6.0, 0.0),\n",
       " ('2012 10 31 14', 8, 5.0, 0.0),\n",
       " ('2012 10 31 15', 5, 3.0, 0.0),\n",
       " ('2012 10 31 16', 3, 5.0, 0.0),\n",
       " ('2012 10 31 17', 1, 5.0, 0.0),\n",
       " ('2012 10 31 18', 8, 3.0, 0.0),\n",
       " ('2012 10 31 19', 8, 9.0, 0.0),\n",
       " ('2012 10 31 20', 2, 7.0, 0.0),\n",
       " ('2012 10 31 21', 8, 7.0, 0.0),\n",
       " ('2012 10 31 22', 9, 6.0, 0.0),\n",
       " ('2012 10 31 23', 2, 3.0, 0.0),\n",
       " ('2012 11 01 00', 4, 3.0, 0.0),\n",
       " ('2012 11 01 01', 1, 3.0, 0.0),\n",
       " ('2012 11 01 02', 2, 3.0, 0.0),\n",
       " ('2012 11 01 04', 2, 7.0, 0.0),\n",
       " ('2012 11 01 05', 1, 6.0, 0.0),\n",
       " ('2012 11 01 06', 2, 13.0, 0.0),\n",
       " ('2012 11 01 08', 4, 7.0, 0.0),\n",
       " ('2012 11 01 09', 4, 3.0, 0.0),\n",
       " ('2012 11 01 10', 7, 6.0, 0.0),\n",
       " ('2012 11 01 11', 9, 6.0, 0.0),\n",
       " ('2012 11 01 12', 8, 11.0, 0.0),\n",
       " ('2012 11 01 13', 5, 8.0, 0.0),\n",
       " ('2012 11 01 14', 5, 8.0, 0.0),\n",
       " ('2012 11 01 16', 4, 5.0, 0.0),\n",
       " ('2012 11 01 17', 7, 5.0, 0.0),\n",
       " ('2012 11 01 18', 10, 9.0, 0.0),\n",
       " ('2012 11 01 19', 10, 3.0, 0.0),\n",
       " ('2012 11 01 20', 7, 5.0, 0.0),\n",
       " ('2012 11 01 21', 5, 8.0, 0.0),\n",
       " ('2012 11 01 22', 8, 5.0, 0.0),\n",
       " ('2012 11 01 23', 4, 0.0, 0.0),\n",
       " ('2012 11 02 00', 4, 5.0, 0.0),\n",
       " ('2012 11 02 01', 5, 7.0, 0.0),\n",
       " ('2012 11 02 02', 1, 3.0, 0.0),\n",
       " ('2012 11 02 03', 2, 3.0, 0.0),\n",
       " ('2012 11 02 04', 0, 5.0, 0.0),\n",
       " ('2012 11 02 05', 1, 5.0, 0.0),\n",
       " ('2012 11 02 06', 1, 6.0, 0.0),\n",
       " ('2012 11 02 08', 7, 5.0, 0.0),\n",
       " ('2012 11 02 09', 1, 7.0, 0.0),\n",
       " ('2012 11 02 10', 4, 9.0, 0.0),\n",
       " ('2012 11 02 11', 4, 7.0, 0.0),\n",
       " ('2012 11 02 12', 3, 7.0, 0.0),\n",
       " ('2012 11 02 13', 5, 6.0, 0.0),\n",
       " ('2012 11 02 14', 6, 6.0, 0.0),\n",
       " ('2012 11 02 15', 8, 5.0, 0.0),\n",
       " ('2012 11 02 16', 4, 11.0, 0.0),\n",
       " ('2012 11 02 17', 7, 8.0, 0.0),\n",
       " ('2012 11 02 18', 3, 9.0, 0.0),\n",
       " ('2012 11 02 19', 8, 7.0, 0.0),\n",
       " ('2012 11 02 20', 8, 9.0, 0.0),\n",
       " ('2012 11 02 21', 9, 7.0, 0.0),\n",
       " ('2012 11 02 22', 6, 8.0, 0.0),\n",
       " ('2012 11 02 23', 5, 8.0, 0.0),\n",
       " ('2012 11 03 00', 10, 7.0, 0.0),\n",
       " ('2012 11 03 01', 5, 7.0, 0.0),\n",
       " ('2012 11 03 02', 11, 7.0, 0.0),\n",
       " ('2012 11 03 03', 1, 7.0, 0.0),\n",
       " ('2012 11 03 04', 1, 8.0, 0.0),\n",
       " ('2012 11 03 05', 1, 8.0, 0.0),\n",
       " ('2012 11 03 06', 2, 7.0, 0.0),\n",
       " ('2012 11 03 07', 3, 6.0, 0.0),\n",
       " ('2012 11 03 08', 2, 10.0, 0.0),\n",
       " ('2012 11 03 09', 7, 13.0, 0.0),\n",
       " ('2012 11 03 10', 3, 6.0, 0.0),\n",
       " ('2012 11 03 11', 14, 13.0, 0.0),\n",
       " ('2012 11 03 12', 7, 13.0, 0.0),\n",
       " ('2012 11 03 13', 5, 8.0, 0.0),\n",
       " ('2012 11 03 14', 10, 8.0, 0.0),\n",
       " ('2012 11 03 15', 7, 7.0, 0.0),\n",
       " ('2012 11 03 16', 5, 10.0, 0.0),\n",
       " ('2012 11 03 17', 11, 9.0, 0.0),\n",
       " ('2012 11 03 18', 11, 9.0, 0.0),\n",
       " ('2012 11 03 19', 11, 13.0, 0.0),\n",
       " ('2012 11 03 20', 10, 10.0, 0.0),\n",
       " ('2012 11 03 21', 13, 9.0, 0.0),\n",
       " ('2012 11 03 22', 13, 0.0, 0.0),\n",
       " ('2012 11 03 23', 12, 7.0, 0.0),\n",
       " ('2012 11 04 00', 6, 9.0, 0.0),\n",
       " ('2012 11 04 01', 16, 7.0, 0.0),\n",
       " ('2012 11 04 02', 9, 7.0, 0.0),\n",
       " ('2012 11 04 03', 4, 7.0, 0.0),\n",
       " ('2012 11 04 04', 6, 8.0, 0.0),\n",
       " ('2012 11 04 05', 2, 6.0, 0.0),\n",
       " ('2012 11 04 06', 1, 6.0, 0.0),\n",
       " ('2012 11 04 07', 1, 3.0, 0.0),\n",
       " ('2012 11 04 08', 5, 7.0, 0.0),\n",
       " ('2012 11 04 09', 1, 9.0, 0.0),\n",
       " ('2012 11 04 11', 5, 6.0, 0.0),\n",
       " ('2012 11 04 12', 12, 8.0, 0.0),\n",
       " ('2012 11 04 13', 8, 8.0, 0.0),\n",
       " ('2012 11 04 14', 7, 7.0, 0.0),\n",
       " ('2012 11 04 15', 5, 7.0, 0.0),\n",
       " ('2012 11 04 16', 4, 5.0, 0.0),\n",
       " ('2012 11 04 17', 12, 5.0, 0.0),\n",
       " ('2012 11 04 19', 9, 7.0, 0.0),\n",
       " ('2012 11 04 21', 6, 7.0, 0.0),\n",
       " ('2012 11 04 22', 4, 6.0, 0.0),\n",
       " ('2012 11 04 23', 2, 5.0, 0.0)]"
      ]
     },
     "execution_count": 43,
     "metadata": {},
     "output_type": "execute_result"
    }
   ],
   "source": [
    "engine.execute(QUERY_6).fetchall()\n"
   ]
  },
  {
   "cell_type": "code",
   "execution_count": 44,
   "id": "2bc3c982",
   "metadata": {},
   "outputs": [],
   "source": [
    "write_query_to_file(QUERY_4, \"hurricane_sandy_data.sql\")"
   ]
  },
  {
   "cell_type": "markdown",
   "id": "a13ced42",
   "metadata": {},
   "source": [
    "## Part 4: Visualizing the Data\n",
    "\n",
    "_A checklist of requirements to keep you on track. Remove this whole cell before submitting the project. The order of these tasks aren't necessarily the order in which they need to be done. It's okay to do them in an order that makes sense to you._\n",
    "\n",
    "* [ ] Create an appropriate visualization for the first query/question in part 3\n",
    "* [ ] Create a visualization that shows the average distance traveled per month (regardless of year - so group by each month). Include the 90% confidence interval around the mean in the visualization\n",
    "* [ ] Define three lat/long coordinate boxes around the three major New York airports: LGA, JFK, and EWR (you can use bboxfinder to help). Create a visualization that compares what day of the week was most popular for drop offs for each airport.\n",
    "* [ ] Create a heatmap of all hired trips over a map of the area. Consider using KeplerGL or another library that helps generate geospatial visualizations.\n",
    "* [ ] Create a scatter plot that compares tip amount versus distance.\n",
    "* [ ] Create another scatter plot that compares tip amount versus precipitation amount.\n",
    "\n",
    "_Be sure these cells are executed so that the visualizations are rendered when the notebook is submitted._"
   ]
  },
  {
   "cell_type": "markdown",
   "id": "6d9eef42",
   "metadata": {},
   "source": [
    "### Visualization 1\n",
    "\n",
    "We use data from query1 and generate bar chart. It shows rides on Yellow Taxi each hour of the day."
   ]
  },
  {
   "cell_type": "code",
   "execution_count": 26,
   "id": "0de8394c",
   "metadata": {},
   "outputs": [],
   "source": [
    "def hourly_taxi_trips():\n",
    "    \"\"\"\n",
    "    Plot the sum of taxi trips of each hour, in bar chart form\n",
    "    \"\"\"\n",
    "    df = get_data_for_visual_1()\n",
    "    \n",
    "    # pull out values from dataframe\n",
    "    fig = plt.figure(figsize=(8, 6))\n",
    "    x,y = df['time'],df['num']\n",
    "    plt.bar(x,y, label='bar')\n",
    "\n",
    "    # Set the x-axis, y-axis label and title\n",
    "    plt.xlabel('time')\n",
    "    plt.ylabel('Number')\n",
    "    plt.title('Number of Taxi Trips each hour')    \n",
    "    plt.legend(frameon=True, loc=\"upper left\")\n",
    "    plt.show()\n"
   ]
  },
  {
   "cell_type": "code",
   "execution_count": 27,
   "id": "847ced2f",
   "metadata": {},
   "outputs": [],
   "source": [
    "def get_data_for_visual_1():\n",
    "    \"\"\"\n",
    "    write queries to obatin needed data from database\n",
    "    \"\"\"\n",
    "    df = pd.read_sql_query(QUERY_1, engine)\n",
    "    df = df.sort_values('time', ascending=True)\n",
    "    return df"
   ]
  },
  {
   "cell_type": "code",
   "execution_count": 28,
   "id": "3c63e845",
   "metadata": {},
   "outputs": [
    {
     "data": {
      "image/png": "[encoded data removed]",
      "text/plain": [
       "<Figure size 576x432 with 1 Axes>"
      ]
     },
     "metadata": {
      "needs_background": "light"
     },
     "output_type": "display_data"
    }
   ],
   "source": [
    "hourly_taxi_trips()"
   ]
  },
  {
   "cell_type": "markdown",
   "id": "a093c6f0",
   "metadata": {},
   "source": [
    "### Visualization 2\n",
    "Generate a line graph of the average distance traveled per month by Taxi as well as Uber and the corresponding 90% confidence interval. In detail, we calculate each confidence interval of Taxi and Uber by t-distribution."
   ]
  },
  {
   "cell_type": "code",
   "execution_count": 29,
   "id": "099aecb9",
   "metadata": {},
   "outputs": [],
   "source": [
    "def monthly_avg_distance():\n",
    "    \"\"\"\n",
    "    Plot the monthly average distance of taxi and uber trips, in line graph\n",
    "    And calculate the 90% confidence interval then Include the CI around the average distance\n",
    "    \"\"\"\n",
    "    taxi,uber = get_data_for_visual_2()\n",
    "    \n",
    "    # calculate 90% CI for Taxi and Uber distance\n",
    "    mean_t = taxi['avg_dis'].mean() \n",
    "    mean_u = uber['avg_dis'].mean()\n",
    "    std_t = taxi['avg_dis'].sem()    \n",
    "    std_u = uber['avg_dis'].sem()\n",
    "    t_low,t_high = stats.t.interval(alpha=0.9, df=len(taxi['avg_dis']) - 1, loc=mean_t, scale=std_t)\n",
    "    u_low,u_high = stats.t.interval(alpha=0.9, df=len(uber['avg_dis']) - 1, loc=mean_u, scale=std_u)\n",
    "    CI_taxi = t_high - t_low\n",
    "    CI_uber = u_high - u_low\n",
    "\n",
    "    # set figure size and plot 2 lines\n",
    "    fig = plt.figure(figsize=(10, 8))\n",
    "    plt.plot(taxi['month'], taxi['avg_dis'], color='blue', label='Taxi')\n",
    "    plt.plot(uber['month'], uber['avg_dis'], color='green', label='Uber')\n",
    "    \n",
    "    # create confidence interval around mean\n",
    "    plt.fill_between(taxi['month'], taxi['avg_dis']-CI_taxi, taxi['avg_dis']+CI_taxi, color='blue', alpha=0.2)\n",
    "    plt.fill_between(uber['month'], uber['avg_dis']-CI_uber, uber['avg_dis']+CI_uber, color='green', alpha=0.2)\n",
    "    \n",
    "    # Set x-axis, y-axis label and title\n",
    "    plt.xlabel('month')\n",
    "    plt.ylabel('Average Distance')\n",
    "    plt.title('Average distance per month with 90% CI')\n",
    "    plt.legend(frameon=True, loc=\"upper left\")\n",
    "    plt.show()\n"
   ]
  },
  {
   "cell_type": "code",
   "execution_count": 30,
   "id": "682e30e5",
   "metadata": {},
   "outputs": [],
   "source": [
    "def get_data_for_visual_2():\n",
    "    \"\"\"\n",
    "    write queries to obatin needed data from database\n",
    "    \"\"\"\n",
    "    q_taxi=\"\"\"SELECT strftime ('%m', pickup_datetime) AS month, AVG(distance) as avg_dis\n",
    "              FROM taxi_trips\n",
    "              GROUP BY month\n",
    "           \"\"\"\n",
    "    q_uber=\"\"\"SELECT strftime ('%m', pickup_datetime) AS month, AVG(distance) as avg_dis\n",
    "              FROM uber_trips\n",
    "              GROUP BY month\n",
    "           \"\"\"\n",
    "    df_t = pd.read_sql_query(q_taxi, engine)\n",
    "    df_u = pd.read_sql_query(q_uber, engine)\n",
    "    return df_t,df_u"
   ]
  },
  {
   "cell_type": "code",
   "execution_count": 31,
   "id": "46bc0ce8",
   "metadata": {},
   "outputs": [
    {
     "data": {
      "image/png": "[encoded data removed]",
      "text/plain": [
       "<Figure size 720x576 with 1 Axes>"
      ]
     },
     "metadata": {
      "needs_background": "light"
     },
     "output_type": "display_data"
    }
   ],
   "source": [
    "monthly_avg_distance()"
   ]
  },
  {
   "cell_type": "markdown",
   "id": "e5289526",
   "metadata": {},
   "source": [
    "### Visualization 3\n",
    "Set up the coordinates box for LGA, JFK and EWR airport. Then generate a bar chart to compare the dropoffs at these 3 airports throughout the time span. In detail, we calculate the sum of number of dropoffs each day in the week and report the 7-day time span."
   ]
  },
  {
   "cell_type": "code",
   "execution_count": 32,
   "id": "8fad6fb3",
   "metadata": {},
   "outputs": [],
   "source": [
    "def get_data_for_visual_3():\n",
    "    \"\"\"\n",
    "    write queries to obatin needed data from database\n",
    "    set up BBOX for LGA, JFK and EWR\n",
    "    \"\"\"\n",
    "    bboxes = {\n",
    "        \"LGA\": [-73.889473,40.766102,-73.857630,40.782806],\n",
    "        \"JFK\" : [-73.826978,40.618945,-73.741319,40.673388],\n",
    "        \"EWR\" : [-74.199343,40.668791,-74.150248,40.712069]\n",
    "    }\n",
    "    df = pd.DataFrame(index=range(7))\n",
    "    for (addr, bbox) in bboxes.items():\n",
    "        query=f\"\"\"\n",
    "        WITH data AS\n",
    "        (SELECT pickup_datetime, dropoff_latitude, dropoff_longitude FROM uber_trips \n",
    "        UNION ALL\n",
    "        SELECT pickup_datetime, dropoff_latitude, dropoff_longitude FROM taxi_trips)\n",
    "        \n",
    "        SELECT count(*) AS {addr}, strftime('%w', pickup_datetime) AS `day_of_week` \n",
    "        FROM data WHERE dropoff_longitude>={bbox[0]} and dropoff_longitude<={bbox[2]} \n",
    "        and dropoff_latitude>={bbox[1]} and dropoff_latitude<={bbox[3]} \n",
    "        GROUP BY `day_of_week`;\n",
    "        \"\"\"\n",
    "        data = pd.read_sql_query(query, engine)\n",
    "        df = pd.concat([df, data.iloc[:, 0]], axis=1)\n",
    "    df = pd.DataFrame(df)\n",
    "    \n",
    "    # make index as day 1~7\n",
    "    df.index = df.index.map(lambda x: x+1)\n",
    "    \n",
    "    return df"
   ]
  },
  {
   "cell_type": "code",
   "execution_count": 33,
   "id": "5899a0d8",
   "metadata": {},
   "outputs": [],
   "source": [
    "def dropoff_airports():\n",
    "    \"\"\"\n",
    "    Plot the sum of taxi trips of each hour, in bar chart form\n",
    "    \"\"\"\n",
    "    df = get_data_for_visual_3()\n",
    "    # fetch data from LGA, JFK and EWR\n",
    "    LGA = df['LGA']\n",
    "    JFK = df['JFK']\n",
    "    EWR = df['EWR']\n",
    "    day = df.index\n",
    "    \n",
    "    # set figure size, bar chart\n",
    "    fig = plt.figure(figsize=(10, 8))\n",
    "    plt.bar(day, LGA, 0.25,label='LGA')\n",
    "    plt.bar(day+0.25, JFK, 0.25, label='JFK')\n",
    "    plt.bar(day+0.5, EWR, 0.25, label='EWR')\n",
    "    plt.xlabel('Day of week')\n",
    "    plt.ylabel('Number of dropoffs')\n",
    "    plt.legend(frameon=True, loc=\"upper left\")\n",
    "    plt.show()"
   ]
  },
  {
   "cell_type": "code",
   "execution_count": 34,
   "id": "c7776fbf",
   "metadata": {},
   "outputs": [
    {
     "data": {
      "image/png": "[encoded data removed]",
      "text/plain": [
       "<Figure size 720x576 with 1 Axes>"
      ]
     },
     "metadata": {
      "needs_background": "light"
     },
     "output_type": "display_data"
    }
   ],
   "source": [
    "dropoff_airports()"
   ]
  },
  {
   "cell_type": "markdown",
   "id": "1666dafb",
   "metadata": {},
   "source": [
    "### Visualization 4\n",
    "\n",
    "Make a heatmap to show density of hired trips within the NYC region. "
   ]
  },
  {
   "cell_type": "code",
   "execution_count": 35,
   "id": "8aec162d",
   "metadata": {},
   "outputs": [],
   "source": [
    "def get_data_for_visual_4():\n",
    "    \"\"\"\n",
    "    write queries to obatin needed data from database\n",
    "    \"\"\"\n",
    "    # fetch map information\n",
    "    g = gpd.read_file(filename='taxi_zones.zip', engine='fiona')\n",
    "    g = g.to_crs(4326)\n",
    "    g['longitude'] = g.centroid.x\n",
    "    g['latitude'] = g.centroid.y\n",
    "    \n",
    "    # write queries to fetch latitude and longitude from trips\n",
    "    query=\"\"\"\n",
    "    SELECT pickup_latitude, pickup_longitude FROM uber_trips UNION ALL\n",
    "    SELECT pickup_latitude, pickup_longitude FROM taxi_trips\n",
    "    \"\"\"\n",
    "    data = pd.read_sql_query(query, engine)\n",
    "    geoData = gpd.GeoDataFrame(data, geometry=gpd.points_from_xy(data.pickup_longitude, data.pickup_latitude))\n",
    "    data = g.sjoin(geoData, how=\"left\", predicate=\"contains\")\n",
    "    \n",
    "    # count number of rides\n",
    "    countData = data.groupby(by=[\"OBJECTID\"])[\"OBJECTID\"].count()\n",
    "    countData.reset_index(inplace=True, drop=True)\n",
    "    g = g.assign(count=countData)\n",
    "    \n",
    "    return g"
   ]
  },
  {
   "cell_type": "code",
   "execution_count": 36,
   "id": "b607f6f7",
   "metadata": {},
   "outputs": [],
   "source": [
    "def hired_trips_heatmap():\n",
    "    \"\"\"\n",
    "    Plot the sum of taxi trips of each hour, in bar chart form\n",
    "    \"\"\"\n",
    "    fig, ax = plt.subplots(figsize=(15, 10))\n",
    "    df = get_data_for_visual_4()\n",
    "    df.plot(column='count', scheme=\"MaxP\", k=8, ax=ax, cmap='Pastel2',legend=True,\n",
    "            missing_kwds={\"color\": \"lightgrey\", \"edgecolor\": \"red\", \"hatch\": \"///\", \"label\": \"Missing values\"},\n",
    "            legend_kwds={\"bbox_to_anchor\" :(1.8, 1)})\n"
   ]
  },
  {
   "cell_type": "markdown",
   "id": "2bceda19",
   "metadata": {},
   "source": [
    "#### The legend on the top right is the interval of each color represents"
   ]
  },
  {
   "cell_type": "code",
   "execution_count": 37,
   "id": "eba566a8",
   "metadata": {},
   "outputs": [
    {
     "data": {
      "image/png": "[encoded data removed]",
      "text/plain": [
       "<Figure size 1080x720 with 1 Axes>"
      ]
     },
     "metadata": {
      "needs_background": "light"
     },
     "output_type": "display_data"
    }
   ],
   "source": [
    "hired_trips_heatmap()"
   ]
  },
  {
   "cell_type": "markdown",
   "id": "665f295b",
   "metadata": {},
   "source": [
    "### Visualization 5\n",
    "\n",
    "Make a scatter plot for revealing relationship between traveled distance and tip amount of Yellow Taxi Trips."
   ]
  },
  {
   "cell_type": "code",
   "execution_count": 38,
   "id": "691af5f9",
   "metadata": {},
   "outputs": [],
   "source": [
    "def scatter_tip_distance():\n",
    "    \"\"\"\n",
    "    Plot the scatter graph of distance and tip_amount from Yellow Taxi Trips\n",
    "    \"\"\"\n",
    "    df = get_data_for_visual_5()\n",
    "    \n",
    "    # filter those tips are 0, sample size is set to 1000\n",
    "    df = df[df['tip_amount']>0]\n",
    "    df = df.sample(1000)\n",
    "    \n",
    "    # set figure size and scatter the values\n",
    "    fig = plt.figure(figsize=(10, 8))\n",
    "    plt.scatter(df['distance'], df['tip_amount'])\n",
    "    \n",
    "    # Set the x-axis, y-axis label and title\n",
    "    plt.xlabel('Distance')\n",
    "    plt.ylabel('Tip amount')\n",
    "    plt.title('Scatter plot of tip amount and distance')    \n",
    "    plt.show()\n"
   ]
  },
  {
   "cell_type": "code",
   "execution_count": 39,
   "id": "7543054c",
   "metadata": {},
   "outputs": [],
   "source": [
    "def get_data_for_visual_5():\n",
    "    \"\"\"\n",
    "    write queries to obatin needed data from database\n",
    "    \"\"\"\n",
    "    query=\"\"\"SELECT tip_amount, distance FROM taxi_trips\"\"\"\n",
    "    df = pd.read_sql_query(query, engine)\n",
    "\n",
    "    return df"
   ]
  },
  {
   "cell_type": "code",
   "execution_count": 40,
   "id": "8526357d",
   "metadata": {},
   "outputs": [
    {
     "data": {
      "image/png": "[encoded data removed]",
      "text/plain": [
       "<Figure size 720x576 with 1 Axes>"
      ]
     },
     "metadata": {
      "needs_background": "light"
     },
     "output_type": "display_data"
    }
   ],
   "source": [
    "scatter_tip_distance()"
   ]
  },
  {
   "cell_type": "markdown",
   "id": "aa358673",
   "metadata": {},
   "source": [
    "### Visualization 6\n",
    "\n",
    "Make a scatter plot for revealing relationship between precipitation level and tip amount of Yellow Taxi Trips."
   ]
  },
  {
   "cell_type": "code",
   "execution_count": 41,
   "id": "b715ffa7",
   "metadata": {},
   "outputs": [],
   "source": [
    "def scatter_tip_precipitation():\n",
    "    \"\"\"\n",
    "    Plot the scatter graph of precipitation and tip_amount from Yellow Taxi Trips\n",
    "    \"\"\"\n",
    "    df = get_data_for_visual_6()\n",
    "    \n",
    "    # filter those tips are 0, sample size is set 2000\n",
    "    df = df[df['tip_amount']>0]\n",
    "    df = df.sample(2000)\n",
    "    \n",
    "    # set figure size and scatter the values\n",
    "    fig = plt.figure(figsize=(10, 8))\n",
    "    plt.scatter(df['HourlyPrecipitation'], df['tip_amount'])\n",
    "    \n",
    "    # Set the x-axis, y-axis label and title\n",
    "    plt.xlabel('Precipitation')\n",
    "    plt.ylabel('Tip amount')\n",
    "    plt.title('Scatter polt of tip amount and precipitation')    \n",
    "    plt.show()\n"
   ]
  },
  {
   "cell_type": "code",
   "execution_count": 42,
   "id": "ca30d5dd",
   "metadata": {},
   "outputs": [],
   "source": [
    "def get_data_for_visual_6():\n",
    "    \"\"\"\n",
    "    write queries to obatin needed data from database\n",
    "    \"\"\"\n",
    "    query_tip=\"\"\"SELECT tip_amount, strftime('%Y-%m-%d %H', pickup_datetime) AS date\n",
    "    FROM taxi_trips\n",
    "    \"\"\"\n",
    "    \n",
    "    query_rain=\"\"\"SELECT HourlyPrecipitation, strftime('%Y-%m-%d %H', DATE) AS date\n",
    "    FROM hourly_weather\n",
    "    \"\"\"\n",
    "    df_tip = pd.read_sql_query(query_tip, engine)\n",
    "    df_rain = pd.read_sql_query(query_rain, engine)\n",
    "    \n",
    "    # merge two dataframe by date\n",
    "    df = pd.merge(df_tip, df_rain, on='date')\n",
    "    df = df.drop('date',axis=1)\n",
    "    \n",
    "    return df\n"
   ]
  },
  {
   "cell_type": "code",
   "execution_count": 43,
   "id": "25703586",
   "metadata": {},
   "outputs": [
    {
     "data": {
      "image/png": "[encoded data removed]",
      "text/plain": [
       "<Figure size 720x576 with 1 Axes>"
      ]
     },
     "metadata": {
      "needs_background": "light"
     },
     "output_type": "display_data"
    }
   ],
   "source": [
    "scatter_tip_precipitation()"
   ]
  }
 ],
 "metadata": {
  "kernelspec": {
   "display_name": "Python 3 (ipykernel)",
   "language": "python",
   "name": "python3"
  },
  "language_info": {
   "codemirror_mode": {
    "name": "ipython",
    "version": 3
   },
   "file_extension": ".py",
   "mimetype": "text/x-python",
   "name": "python",
   "nbconvert_exporter": "python",
   "pygments_lexer": "ipython3",
   "version": "3.9.12"
  }
 },
 "nbformat": 4,
 "nbformat_minor": 5
}
